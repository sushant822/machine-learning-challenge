{
  "nbformat": 4,
  "nbformat_minor": 0,
  "metadata": {
    "colab": {
      "name": "big-data-challenge-video_games.ipynb",
      "provenance": [],
      "authorship_tag": "ABX9TyN8shTsLgiOn4oMmKQ85yrX",
      "include_colab_link": true
    },
    "kernelspec": {
      "name": "python3",
      "display_name": "Python 3"
    }
  },
  "cells": [
    {
      "cell_type": "markdown",
      "metadata": {
        "id": "view-in-github",
        "colab_type": "text"
      },
      "source": [
        "<a href=\"https://colab.research.google.com/github/sushant822/machine-learning-challenge/blob/main/big_data_challenge_video_games.ipynb\" target=\"_parent\"><img src=\"https://colab.research.google.com/assets/colab-badge.svg\" alt=\"Open In Colab\"/></a>"
      ]
    },
    {
      "cell_type": "code",
      "metadata": {
        "id": "PtY5PdNBDKm9",
        "outputId": "28b8895f-7661-44c7-e533-f929363ec50d",
        "colab": {
          "base_uri": "https://localhost:8080/"
        }
      },
      "source": [
        "import os\n",
        "\n",
        "# Find the latest version of spark 2.0  from http://www-us.apache.org/dist/spark/ and enter as the spark version\n",
        "# For example:\n",
        "# spark_version = 'spark-2.4.7'\n",
        "spark_version = 'spark-2.4.7'\n",
        "os.environ['SPARK_VERSION']=spark_version\n",
        "\n",
        "# Install Spark and Java\n",
        "!apt-get update\n",
        "!apt-get install openjdk-8-jdk-headless -qq > /dev/null\n",
        "!wget -q http://www-us.apache.org/dist/spark/$SPARK_VERSION/$SPARK_VERSION-bin-hadoop2.7.tgz\n",
        "!tar xf $SPARK_VERSION-bin-hadoop2.7.tgz\n",
        "!pip install -q findspark\n",
        "\n",
        "# Set Environment Variables\n",
        "import os\n",
        "os.environ[\"JAVA_HOME\"] = \"/usr/lib/jvm/java-8-openjdk-amd64\"\n",
        "os.environ[\"SPARK_HOME\"] = f\"/content/{spark_version}-bin-hadoop2.7\"\n",
        "\n",
        "# Start a SparkSession\n",
        "import findspark\n",
        "findspark.init()"
      ],
      "execution_count": 19,
      "outputs": [
        {
          "output_type": "stream",
          "text": [
            "\r0% [Working]\r            \rHit:1 http://ppa.launchpad.net/c2d4u.team/c2d4u4.0+/ubuntu bionic InRelease\n",
            "\r0% [Waiting for headers] [Connecting to security.ubuntu.com (91.189.91.38)] [Co\r                                                                               \rHit:2 http://archive.ubuntu.com/ubuntu bionic InRelease\n",
            "\r0% [Waiting for headers] [Connecting to security.ubuntu.com (91.189.91.38)] [Co\r0% [1 InRelease gpgv 15.9 kB] [Waiting for headers] [Connecting to security.ubu\r                                                                               \rHit:3 http://archive.ubuntu.com/ubuntu bionic-updates InRelease\n",
            "\r0% [1 InRelease gpgv 15.9 kB] [Waiting for headers] [Connecting to security.ubu\r                                                                               \rHit:4 http://ppa.launchpad.net/graphics-drivers/ppa/ubuntu bionic InRelease\n",
            "\r0% [1 InRelease gpgv 15.9 kB] [Waiting for headers] [Connecting to security.ubu\r                                                                               \rHit:5 http://archive.ubuntu.com/ubuntu bionic-backports InRelease\n",
            "\r0% [1 InRelease gpgv 15.9 kB] [Connecting to security.ubuntu.com (91.189.91.38)\r                                                                               \rHit:6 https://cloud.r-project.org/bin/linux/ubuntu bionic-cran40/ InRelease\n",
            "Hit:7 http://security.ubuntu.com/ubuntu bionic-security InRelease\n",
            "Ign:8 https://developer.download.nvidia.com/compute/cuda/repos/ubuntu1804/x86_64  InRelease\n",
            "Ign:9 https://developer.download.nvidia.com/compute/machine-learning/repos/ubuntu1804/x86_64  InRelease\n",
            "Hit:10 https://developer.download.nvidia.com/compute/cuda/repos/ubuntu1804/x86_64  Release\n",
            "Hit:11 https://developer.download.nvidia.com/compute/machine-learning/repos/ubuntu1804/x86_64  Release\n",
            "Reading package lists... Done\n"
          ],
          "name": "stdout"
        }
      ]
    },
    {
      "cell_type": "code",
      "metadata": {
        "id": "28HvLRn71S1y",
        "outputId": "56ae2458-de4b-41ef-94cd-0e0885f75e2e",
        "colab": {
          "base_uri": "https://localhost:8080/"
        }
      },
      "source": [
        "!wget https://jdbc.postgresql.org/download/postgresql-42.2.9.jar"
      ],
      "execution_count": 20,
      "outputs": [
        {
          "output_type": "stream",
          "text": [
            "--2020-11-01 18:20:31--  https://jdbc.postgresql.org/download/postgresql-42.2.9.jar\n",
            "Resolving jdbc.postgresql.org (jdbc.postgresql.org)... 72.32.157.228, 2001:4800:3e1:1::228\n",
            "Connecting to jdbc.postgresql.org (jdbc.postgresql.org)|72.32.157.228|:443... connected.\n",
            "HTTP request sent, awaiting response... 200 OK\n",
            "Length: 914037 (893K) [application/java-archive]\n",
            "Saving to: ‘postgresql-42.2.9.jar.1’\n",
            "\n",
            "postgresql-42.2.9.j 100%[===================>] 892.61K  1.40MB/s    in 0.6s    \n",
            "\n",
            "2020-11-01 18:20:33 (1.40 MB/s) - ‘postgresql-42.2.9.jar.1’ saved [914037/914037]\n",
            "\n"
          ],
          "name": "stdout"
        }
      ]
    },
    {
      "cell_type": "code",
      "metadata": {
        "id": "rDFC2haT6v_s"
      },
      "source": [
        "from pyspark.sql import SparkSession\n",
        "spark = SparkSession.builder.appName(\"CloudETL\").config(\"spark.driver.extraClassPath\",\"/content/postgresql-42.2.9.jar\").getOrCreate()"
      ],
      "execution_count": null,
      "outputs": []
    },
    {
      "cell_type": "code",
      "metadata": {
        "id": "BTiNH9Md5qgL",
        "outputId": "40c746a2-9149-4e75-8edd-7101c6505d17",
        "colab": {
          "base_uri": "https://localhost:8080/"
        }
      },
      "source": [
        "# Read in data from S3 Buckets\n",
        "from pyspark import SparkFiles\n",
        "url=\"https://classdb27oct2020.s3-us-west-1.amazonaws.com/amazon_reviews_us_Digital_Video_Games_v1_00.tsv\"\n",
        "spark.sparkContext.addFile(url)\n",
        "digital_video_games_df = spark.read.csv(SparkFiles.get(\"amazon_reviews_us_Digital_Video_Games_v1_00.tsv\"), sep=\"\\t\", header=True, inferSchema=True)\n",
        "\n",
        "# Show DataFrame\n",
        "digital_video_games_df.show()"
      ],
      "execution_count": 21,
      "outputs": [
        {
          "output_type": "stream",
          "text": [
            "+-----------+-----------+--------------+----------+--------------+--------------------+-------------------+-----------+-------------+-----------+----+-----------------+--------------------+--------------------+-------------------+\n",
            "|marketplace|customer_id|     review_id|product_id|product_parent|       product_title|   product_category|star_rating|helpful_votes|total_votes|vine|verified_purchase|     review_headline|         review_body|        review_date|\n",
            "+-----------+-----------+--------------+----------+--------------+--------------------+-------------------+-----------+-------------+-----------+----+-----------------+--------------------+--------------------+-------------------+\n",
            "|         US|   21269168| RSH1OZ87OYK92|B013PURRZW|     603406193|Madden NFL 16 - X...|Digital_Video_Games|          2|            2|          3|   N|                N|A slight improvem...|I keep buying mad...|2015-08-31 00:00:00|\n",
            "|         US|     133437|R1WFOQ3N9BO65I|B00F4CEHNK|     341969535| Xbox Live Gift Card|Digital_Video_Games|          5|            0|          0|   N|                Y|          Five Stars|             Awesome|2015-08-31 00:00:00|\n",
            "|         US|   45765011| R3YOOS71KM5M9|B00DNHLFQA|     951665344|Command & Conquer...|Digital_Video_Games|          5|            0|          0|   N|                Y|Hail to the great...|If you are preppi...|2015-08-31 00:00:00|\n",
            "|         US|     113118|R3R14UATT3OUFU|B004RMK5QG|     395682204|Playstation Plus ...|Digital_Video_Games|          5|            0|          0|   N|                Y|          Five Stars|             Perfect|2015-08-31 00:00:00|\n",
            "|         US|   22151364| RV2W9SGDNQA2C|B00G9BNLQE|     640460561|Saints Row IV - E...|Digital_Video_Games|          5|            0|          0|   N|                Y|          Five Stars|            Awesome!|2015-08-31 00:00:00|\n",
            "|         US|   22151364|R3CFKLIZ0I2KOB|B00IMIL498|     621922192|Double Dragon: Ne...|Digital_Video_Games|          5|            0|          0|   N|                Y|          Five Stars|            Awesome!|2015-08-31 00:00:00|\n",
            "|         US|   38426028|R1LRYU1V0T3O38|B00S00IJH8|     215163395|              Sims 4|Digital_Video_Games|          4|            0|          0|   N|                Y|i like the new sk...|i like the new sk...|2015-08-31 00:00:00|\n",
            "|         US|    6057518| R44QKV6FE5CJ2|B004RMK4BC|     384246568|Playstation Netwo...|Digital_Video_Games|          5|            0|          0|   N|                Y|          Five Stars|               Super|2015-08-31 00:00:00|\n",
            "|         US|   20715661|R2TX1KLPXXXNYS|B00K59HKIQ|     384246568|Playstation Netwo...|Digital_Video_Games|          5|            0|          0|   N|                Y|         Easy & Fast|Excellent, fast a...|2015-08-31 00:00:00|\n",
            "|         US|   26540306|R1JEEW4C6R89BA|B00K59HKIQ|     384246568|Playstation Netwo...|Digital_Video_Games|          5|            0|          0|   N|                Y|          Five Stars|                  Ok|2015-08-31 00:00:00|\n",
            "|         US|    8926809|R3B3UHK1FO0ERS|B004774IPU|     151985175|Sid Meier's Civil...|Digital_Video_Games|          1|            0|          0|   N|                N|I am still playin...|As has been writt...|2015-08-31 00:00:00|\n",
            "|         US|   31525534|R2GVSDHW513SS1|B002LIT9EC|     695277014|Build-a-lot 4: Po...|Digital_Video_Games|          5|            0|          0|   N|                Y|Probably the best...|Probably the best...|2015-08-31 00:00:00|\n",
            "|         US|   22151364|R1R1NT516PYT73|B008ALUBYQ|     112160022|       Borderlands 2|Digital_Video_Games|          5|            0|          0|   N|                Y|          Five Stars|            Awesome!|2015-08-31 00:00:00|\n",
            "|         US|   22977584|R3K624QDQKENN9|B010KYDNDG|     835376637|Minecraft for PC/...|Digital_Video_Games|          4|            0|          0|   N|                Y|                 FUN|COOL BUT IT LAGES...|2015-08-31 00:00:00|\n",
            "|         US|   45765011| R1FOXH7PCJX3V|B008ALUBYQ|     112160022|       Borderlands 2|Digital_Video_Games|          1|            0|          2|   N|                Y|            One Star|Lames purchase I ...|2015-08-31 00:00:00|\n",
            "|         US|    2239522| RA1246M1OMDWC|B004RMK4P8|     384246568|Playstation Netwo...|Digital_Video_Games|          5|            0|          0|   N|                Y|          Five Stars|               Great|2015-08-31 00:00:00|\n",
            "|         US|   48805811|R2I9SXWB0PAEKQ|B004RMK5QG|     395682204|Playstation Plus ...|Digital_Video_Games|          5|            0|          0|   N|                Y|          Five Stars|          Awesome!!!|2015-08-31 00:00:00|\n",
            "|         US|   18646481|R3UGL544NA0G9C|B00BI16Z22|     552981447|Brink of Consciou...|Digital_Video_Games|          4|            0|          0|   N|                Y|       worth playing|pretty good but n...|2015-08-31 00:00:00|\n",
            "|         US|   10310935|R1CBA4Y92GVAVM|B004VSTQ2A|     232803743|Xbox Live Subscri...|Digital_Video_Games|          5|            0|          0|   N|                Y|          Five Stars|What can I say......|2015-08-31 00:00:00|\n",
            "|         US|    5587610|R24NEKNR01VEHU|B00GAC1D2G|     384246568|Playstation Netwo...|Digital_Video_Games|          5|            0|          0|   N|                Y|        Just amazing|Very fast to rece...|2015-08-31 00:00:00|\n",
            "+-----------+-----------+--------------+----------+--------------+--------------------+-------------------+-----------+-------------+-----------+----+-----------------+--------------------+--------------------+-------------------+\n",
            "only showing top 20 rows\n",
            "\n"
          ],
          "name": "stdout"
        }
      ]
    },
    {
      "cell_type": "code",
      "metadata": {
        "id": "qGLBTZtJv42n",
        "outputId": "2636be2e-c9e7-4007-f801-10fbfff7c743",
        "colab": {
          "base_uri": "https://localhost:8080/"
        }
      },
      "source": [
        "print(f\"Original count: {digital_video_games_df.count()}\")"
      ],
      "execution_count": 22,
      "outputs": [
        {
          "output_type": "stream",
          "text": [
            "Original count: 145431\n",
            "Count after dropna: 145425\n",
            "Count after dropping duplicates: 145425\n"
          ],
          "name": "stdout"
        }
      ]
    },
    {
      "cell_type": "code",
      "metadata": {
        "id": "8_J5HkcUxbj1",
        "outputId": "2095b982-f0a4-4065-d93f-9c6033b507b2",
        "colab": {
          "base_uri": "https://localhost:8080/"
        }
      },
      "source": [
        "digital_video_games_df.printSchema()"
      ],
      "execution_count": 23,
      "outputs": [
        {
          "output_type": "stream",
          "text": [
            "root\n",
            " |-- marketplace: string (nullable = true)\n",
            " |-- customer_id: integer (nullable = true)\n",
            " |-- review_id: string (nullable = true)\n",
            " |-- product_id: string (nullable = true)\n",
            " |-- product_parent: integer (nullable = true)\n",
            " |-- product_title: string (nullable = true)\n",
            " |-- product_category: string (nullable = true)\n",
            " |-- star_rating: integer (nullable = true)\n",
            " |-- helpful_votes: integer (nullable = true)\n",
            " |-- total_votes: integer (nullable = true)\n",
            " |-- vine: string (nullable = true)\n",
            " |-- verified_purchase: string (nullable = true)\n",
            " |-- review_headline: string (nullable = true)\n",
            " |-- review_body: string (nullable = true)\n",
            " |-- review_date: timestamp (nullable = true)\n",
            "\n"
          ],
          "name": "stdout"
        }
      ]
    },
    {
      "cell_type": "code",
      "metadata": {
        "id": "2QvddDEUaBOH",
        "outputId": "6336cbdc-c82a-436d-bf2a-9436b6d3e7df",
        "colab": {
          "base_uri": "https://localhost:8080/"
        }
      },
      "source": [
        "from pyspark.sql.functions import to_date\n",
        "# Review DataFrame\n",
        "review_id_df = digital_video_games_df.select([\"review_id\", \"customer_id\", \"product_id\", \"product_parent\", to_date(\"review_date\", 'yyyy-MM-dd').alias(\"review_date\")])\n",
        "review_id_df.show()"
      ],
      "execution_count": 24,
      "outputs": [
        {
          "output_type": "stream",
          "text": [
            "+--------------+-----------+----------+--------------+-----------+\n",
            "|     review_id|customer_id|product_id|product_parent|review_date|\n",
            "+--------------+-----------+----------+--------------+-----------+\n",
            "| RDHZ0IP0QWF3G|   39005147|B00SLM597S|     500010339| 2015-08-31|\n",
            "|R2AQD17WE4BPXV|   10726509|B009IR1SR0|     912779847| 2015-08-20|\n",
            "|R27V3DHADX5APY|    1709090|B00F4CEHNK|     341969535| 2015-08-19|\n",
            "|R2Q0PGNE0M3ES4|     167253|B00TUEOSMS|      47086315| 2015-08-18|\n",
            "|R1LB0DS6OZCIMW|   10534940|B00TUEOSMS|      47086315| 2015-08-17|\n",
            "|R3HX7QICC0NOCK|   11267480|B00GAC1D2G|     384246568| 2015-08-15|\n",
            "|R1KXTQXBE0CRQM|   22661511|B00T8NURF8|     181827382| 2015-08-15|\n",
            "|R39TG3LST9JDA8|   18404333|B002VBWIP6|     232803743| 2015-08-10|\n",
            "|R1W2UR1JVB2C13|   22353312|B010R8DUFQ|     473214709| 2015-08-09|\n",
            "|R1M0DM7FCXI1H9|     535447|B00GAC1D2G|     384246568| 2015-08-06|\n",
            "|R2IJD4JDICI4AF|   10733761|B009IR1SR0|     912779847| 2015-08-01|\n",
            "| RWVPFDHF1M46B|    2585643|B00GAC1D2G|     384246568| 2015-07-29|\n",
            "|R3VRDDUP2Y8GLL|   46457021|B00KSEP1IY|     216254917| 2015-07-27|\n",
            "| RTQ74WPYINEQ4|   46298724|B00GXHISJE|     599419294| 2015-07-24|\n",
            "|R2EDLGJ023RFG9|   15358939|B004RMK4BC|     384246568| 2015-07-20|\n",
            "|R2GHBUPC6U73WY|   46570081|B00KXAGTV6|     879556367| 2015-07-19|\n",
            "|R302SCFGGMY7CJ|    3905163|B00DTWEOZ8|     869820667| 2015-07-17|\n",
            "|R2UWO1VA2JWOVV|    2567383|B004RMK4BC|     384246568| 2015-07-15|\n",
            "| RMK5FMTGK8UWV|   26637972|B00AR05D7I|     151974959| 2015-07-06|\n",
            "|R3A14IZL4UCGIM|   39677172|B004RMK4P8|     384246568| 2015-07-06|\n",
            "+--------------+-----------+----------+--------------+-----------+\n",
            "only showing top 20 rows\n",
            "\n"
          ],
          "name": "stdout"
        }
      ]
    },
    {
      "cell_type": "code",
      "metadata": {
        "id": "sFpYriizAg3M"
      },
      "source": [
        "products_df = digital_video_games_df.select([\"product_id\", \"product_title\"]).drop_duplicates()"
      ],
      "execution_count": 25,
      "outputs": []
    },
    {
      "cell_type": "code",
      "metadata": {
        "id": "laSVBlMbAjSX",
        "outputId": "ce32c4b0-5382-461d-ce88-92aefa0da7a2",
        "colab": {
          "base_uri": "https://localhost:8080/"
        }
      },
      "source": [
        "reviews_df = digital_video_games_df.select([\"review_id\", \"review_headline\", \"review_body\"])\n",
        "reviews_df.show()"
      ],
      "execution_count": 26,
      "outputs": [
        {
          "output_type": "stream",
          "text": [
            "+--------------+--------------------+--------------------+\n",
            "|     review_id|     review_headline|         review_body|\n",
            "+--------------+--------------------+--------------------+\n",
            "| RDHZ0IP0QWF3G|Maybe you'll have...|Crashed and never...|\n",
            "|R2AQD17WE4BPXV|Can't play any of...|Can't play any of...|\n",
            "|R27V3DHADX5APY|            One Star|Can't use to pay ...|\n",
            "|R2Q0PGNE0M3ES4|This game has so ...|Story line was im...|\n",
            "|R1LB0DS6OZCIMW|          Five Stars|Perfect. Now I ca...|\n",
            "|R3HX7QICC0NOCK|            One Star|I don't appreciat...|\n",
            "|R1KXTQXBE0CRQM|This is a great b...|This is a great b...|\n",
            "|R39TG3LST9JDA8|          Five Stars|Good price saved 10$|\n",
            "|R1W2UR1JVB2C13|Simplistic, but e...|This game is thor...|\n",
            "|R1M0DM7FCXI1H9|          Five Stars|              Great.|\n",
            "|R2IJD4JDICI4AF|Great games but h...|The games were gr...|\n",
            "| RWVPFDHF1M46B|          Five Stars|                  (:|\n",
            "|R3VRDDUP2Y8GLL|Enjoying this in ...|I'm a RPG guy fro...|\n",
            "| RTQ74WPYINEQ4|      No Downloading|Amazon gives the ...|\n",
            "|R2EDLGJ023RFG9|          Five Stars|           Practical|\n",
            "|R2GHBUPC6U73WY|Great game, one o...|Great game, one o...|\n",
            "|R302SCFGGMY7CJ|A great game for ...|It's fun to play ...|\n",
            "|R2UWO1VA2JWOVV|Great Playstation...|My husband bought...|\n",
            "| RMK5FMTGK8UWV|            One Star|This would not do...|\n",
            "|R3A14IZL4UCGIM|Wow! Worked Perfe...|The code worked g...|\n",
            "+--------------+--------------------+--------------------+\n",
            "only showing top 20 rows\n",
            "\n"
          ],
          "name": "stdout"
        }
      ]
    },
    {
      "cell_type": "code",
      "metadata": {
        "id": "-EGCV4KGAu6T",
        "outputId": "b56b41d1-a895-4d41-af2b-00722b4972e1",
        "colab": {
          "base_uri": "https://localhost:8080/"
        }
      },
      "source": [
        "customers_df = digital_video_games_df.groupby(\"customer_id\").agg({\"customer_id\": \"count\"}).withColumnRenamed(\"count(customer_id)\", \"customer_count\")\n",
        "customers_df.show()"
      ],
      "execution_count": 28,
      "outputs": [
        {
          "output_type": "stream",
          "text": [
            "+-----------+--------------+\n",
            "|customer_id|customer_count|\n",
            "+-----------+--------------+\n",
            "|   47505356|             1|\n",
            "|   21198249|            10|\n",
            "|   11646226|             4|\n",
            "|   50712554|             1|\n",
            "|   13490955|             2|\n",
            "|    2099668|             1|\n",
            "|   29206489|             1|\n",
            "|   14231016|             1|\n",
            "|   46351928|             7|\n",
            "|   28665190|             1|\n",
            "|   44172434|             1|\n",
            "|   45096613|             1|\n",
            "|   13713446|             8|\n",
            "|    2863501|             1|\n",
            "|   39449017|             3|\n",
            "|   21281723|             5|\n",
            "|    3953141|             2|\n",
            "|    8213600|             2|\n",
            "|   33185883|             1|\n",
            "|   15109931|             1|\n",
            "+-----------+--------------+\n",
            "only showing top 20 rows\n",
            "\n"
          ],
          "name": "stdout"
        }
      ]
    },
    {
      "cell_type": "code",
      "metadata": {
        "id": "7tm9SDptBXHg",
        "outputId": "caf6abb7-3ba9-4674-81e9-f6dceaff6fdd",
        "colab": {
          "base_uri": "https://localhost:8080/"
        }
      },
      "source": [
        "vine_df = digital_video_games_df.select([\"review_id\", \"star_rating\", \"helpful_votes\", \"total_votes\", \"vine\"])\n",
        "vine_df.show()"
      ],
      "execution_count": 29,
      "outputs": [
        {
          "output_type": "stream",
          "text": [
            "+--------------+-----------+-------------+-----------+----+\n",
            "|     review_id|star_rating|helpful_votes|total_votes|vine|\n",
            "+--------------+-----------+-------------+-----------+----+\n",
            "| RDHZ0IP0QWF3G|          1|            1|          1|   N|\n",
            "|R2AQD17WE4BPXV|          1|            1|          1|   N|\n",
            "|R27V3DHADX5APY|          1|            0|          0|   N|\n",
            "|R2Q0PGNE0M3ES4|          5|            0|          0|   N|\n",
            "|R1LB0DS6OZCIMW|          5|            0|          0|   N|\n",
            "|R3HX7QICC0NOCK|          1|            0|          0|   N|\n",
            "|R1KXTQXBE0CRQM|          5|            0|          0|   N|\n",
            "|R39TG3LST9JDA8|          5|            0|          0|   N|\n",
            "|R1W2UR1JVB2C13|          5|            1|          1|   N|\n",
            "|R1M0DM7FCXI1H9|          5|            0|          0|   N|\n",
            "|R2IJD4JDICI4AF|          1|            2|          2|   N|\n",
            "| RWVPFDHF1M46B|          5|            0|          0|   N|\n",
            "|R3VRDDUP2Y8GLL|          5|            0|          0|   N|\n",
            "| RTQ74WPYINEQ4|          1|            0|          1|   N|\n",
            "|R2EDLGJ023RFG9|          5|            0|          0|   N|\n",
            "|R2GHBUPC6U73WY|          5|            0|          0|   N|\n",
            "|R302SCFGGMY7CJ|          4|            0|          0|   N|\n",
            "|R2UWO1VA2JWOVV|          5|            0|          0|   N|\n",
            "| RMK5FMTGK8UWV|          1|            0|          1|   N|\n",
            "|R3A14IZL4UCGIM|          5|            0|          0|   N|\n",
            "+--------------+-----------+-------------+-----------+----+\n",
            "only showing top 20 rows\n",
            "\n"
          ],
          "name": "stdout"
        }
      ]
    },
    {
      "cell_type": "markdown",
      "metadata": {
        "id": "aLFKV9tNBmQ7"
      },
      "source": [
        "**Saving data to AWS-RDS Database**"
      ]
    },
    {
      "cell_type": "code",
      "metadata": {
        "id": "Fu0LjzcIBu61"
      },
      "source": [
        "mode = \"append\"\n",
        "jdbc_url=\"jdbc:postgresql://mypostgresdb.ct26r4oxbudr.us-west-1.rds.amazonaws.com:5432/my_data_class_db\"\n",
        "config = {\"user\":\"root\", \"password\": \"12345678\", \"driver\":\"org.postgresql.Driver\"}"
      ],
      "execution_count": 33,
      "outputs": []
    },
    {
      "cell_type": "code",
      "metadata": {
        "id": "16YAF2IoCMBp"
      },
      "source": [
        "review_id_df.write.jdbc(url=jdbc_url, table='review_id_table', mode=mode, properties=config)"
      ],
      "execution_count": 34,
      "outputs": []
    },
    {
      "cell_type": "code",
      "metadata": {
        "id": "S5f5pjFKEBoD"
      },
      "source": [
        "products_df.write.jdbc(url=jdbc_url, table='products', mode=mode, properties=config)"
      ],
      "execution_count": 35,
      "outputs": []
    },
    {
      "cell_type": "code",
      "metadata": {
        "id": "C5pA8sweFkGl"
      },
      "source": [
        "customers_df.write.jdbc(url=jdbc_url, table='customers', mode=mode, properties=config)"
      ],
      "execution_count": 36,
      "outputs": []
    },
    {
      "cell_type": "code",
      "metadata": {
        "id": "5Ut4XuvoGdjK"
      },
      "source": [
        "vine_df.write.jdbc(url=jdbc_url, table='vines', mode=mode, properties=config)"
      ],
      "execution_count": 37,
      "outputs": []
    },
    {
      "cell_type": "code",
      "metadata": {
        "id": "916bZ7vKHb10"
      },
      "source": [
        ""
      ],
      "execution_count": null,
      "outputs": []
    }
  ]
}